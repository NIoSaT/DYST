{
 "cells": [
  {
   "cell_type": "code",
   "execution_count": null,
   "metadata": {
    "collapsed": true
   },
   "outputs": [],
   "source": [
    "from lib.offline_lib import check_bit_flips, get_mask, get_check_sum\n",
    "import numpy as np\n",
    "from tqdm import tqdm"
   ]
  },
  {
   "cell_type": "code",
   "execution_count": null,
   "outputs": [],
   "source": [
    "noc = 1\n",
    "target_count = 0"
   ],
   "metadata": {
    "collapsed": false
   }
  },
  {
   "cell_type": "code",
   "execution_count": null,
   "outputs": [],
   "source": [
    "ascending_masks = [[int(x) for x in list(format(i, f\"0{8*noc + 3+noc}b\"))] for i in range(0, 2 ** (8*noc + 3+noc))]\n",
    "hash_list = ascending_masks\n",
    "old_masks = get_mask(8*noc + 3+noc,8*noc + 3+noc - target_count)"
   ],
   "metadata": {
    "collapsed": false
   }
  },
  {
   "cell_type": "code",
   "execution_count": null,
   "outputs": [],
   "source": [
    "target_msg = [1,0,0,1,0,0,1,0]\n",
    "pkt_hash = target_msg + [1,1,0,0]\n",
    "\n",
    "target_msg += list(map(int,get_check_sum(target_msg, noc)))"
   ],
   "metadata": {
    "collapsed": false
   }
  },
  {
   "cell_type": "code",
   "execution_count": null,
   "outputs": [],
   "source": [
    "print(target_msg)\n",
    "print(pkt_hash)"
   ],
   "metadata": {
    "collapsed": false
   }
  },
  {
   "cell_type": "code",
   "execution_count": null,
   "outputs": [],
   "source": [
    "check_bit_flips(pkt_hash, target_msg, noc, ascending_masks)"
   ],
   "metadata": {
    "collapsed": false
   }
  },
  {
   "cell_type": "code",
   "execution_count": null,
   "outputs": [],
   "source": [
    "# Use old mask order\n",
    "# Problem: Mask [0, 0, 0, 0, 0, 0, 0, 1, 1, 0, 0, 0]\n",
    "check_bit_flips(pkt_hash, target_msg, noc, old_masks)"
   ],
   "metadata": {
    "collapsed": false
   }
  },
  {
   "cell_type": "code",
   "execution_count": null,
   "outputs": [],
   "source": [
    "# Check for perfect match of data\n",
    "target_msg[:8*noc] == pkt_hash[:8*noc]"
   ],
   "metadata": {
    "collapsed": false
   }
  },
  {
   "cell_type": "code",
   "execution_count": null,
   "outputs": [],
   "source": [
    "pkt_hash = [1, 0, 0, 0, 0, 0, 1, 0, 1, 1, 0, 0]"
   ],
   "metadata": {
    "collapsed": false
   }
  },
  {
   "cell_type": "code",
   "execution_count": null,
   "outputs": [],
   "source": [
    "check_bit_flips(pkt_hash, target_msg, noc, ascending_masks)"
   ],
   "metadata": {
    "collapsed": false
   }
  },
  {
   "cell_type": "code",
   "execution_count": null,
   "outputs": [],
   "source": [
    "check_bit_flips(pkt_hash, target_msg, noc, old_masks)"
   ],
   "metadata": {
    "collapsed": false
   }
  },
  {
   "cell_type": "code",
   "execution_count": null,
   "outputs": [],
   "source": [
    "target_msg[:8*noc] == pkt_hash[:8*noc]"
   ],
   "metadata": {
    "collapsed": false
   }
  },
  {
   "cell_type": "code",
   "execution_count": null,
   "outputs": [],
   "source": [
    "check_results = []\n",
    "for target_msg in tqdm(hash_list):\n",
    "    for current_hash in hash_list:\n",
    "        res_asc = check_bit_flips(current_hash, target_msg, noc, ascending_masks)\n",
    "        res_old = check_bit_flips(current_hash, target_msg, noc, old_masks)\n",
    "        res_perfekt = target_msg[:8*noc] == current_hash[:8*noc]\n",
    "        check_results.append((res_asc, res_old, res_perfekt))"
   ],
   "metadata": {
    "collapsed": false
   }
  },
  {
   "cell_type": "code",
   "execution_count": null,
   "outputs": [],
   "source": [
    "check_results = np.array(check_results)"
   ],
   "metadata": {
    "collapsed": false
   }
  },
  {
   "cell_type": "code",
   "execution_count": null,
   "outputs": [],
   "source": [
    "# Perfect AND ascending mask matches -> Ascending mask has no benefit over perfect match\n",
    "np.where(check_results[:,[0,2]].all(axis=-1))"
   ],
   "metadata": {
    "collapsed": false
   }
  },
  {
   "cell_type": "code",
   "execution_count": null,
   "outputs": [],
   "source": [
    "# Old mask match AND NOT Perfect match -> Ext gave us more matches\n",
    "np.where(check_results[:,1] & ~check_results[:,2])"
   ],
   "metadata": {
    "collapsed": false
   }
  },
  {
   "cell_type": "code",
   "execution_count": null,
   "outputs": [],
   "source": [
    "# Old mask match AND Perfect match\n",
    "np.where(check_results[:,[1,2]].all(axis=-1))"
   ],
   "metadata": {
    "collapsed": false
   }
  },
  {
   "cell_type": "code",
   "execution_count": null,
   "outputs": [],
   "source": [
    "# All Old mask matches\n",
    "np.where(check_results[:,1])"
   ],
   "metadata": {
    "collapsed": false
   }
  },
  {
   "cell_type": "code",
   "execution_count": null,
   "outputs": [],
   "source": [
    "# All ascending mask matches\n",
    "np.where(check_results[:,0])"
   ],
   "metadata": {
    "collapsed": false
   }
  },
  {
   "cell_type": "code",
   "execution_count": null,
   "outputs": [],
   "source": [
    "# All perfect matches\n",
    "np.where(check_results[:,2])"
   ],
   "metadata": {
    "collapsed": false
   }
  }
 ],
 "metadata": {
  "kernelspec": {
   "display_name": "Python 3",
   "language": "python",
   "name": "python3"
  },
  "language_info": {
   "codemirror_mode": {
    "name": "ipython",
    "version": 2
   },
   "file_extension": ".py",
   "mimetype": "text/x-python",
   "name": "python",
   "nbconvert_exporter": "python",
   "pygments_lexer": "ipython2",
   "version": "2.7.6"
  }
 },
 "nbformat": 4,
 "nbformat_minor": 0
}
